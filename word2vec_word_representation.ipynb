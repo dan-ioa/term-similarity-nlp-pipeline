{
  "cells": [
    {
      "cell_type": "code",
      "execution_count": 35,
      "metadata": {
        "colab": {
          "base_uri": "https://localhost:8080/"
        },
        "id": "1t3ngwGo_wgK",
        "outputId": "24d484b2-3ecd-40a7-ab0b-74705fd5df39"
      },
      "outputs": [
        {
          "output_type": "stream",
          "name": "stderr",
          "text": [
            "[nltk_data] Downloading package stopwords to /root/nltk_data...\n",
            "[nltk_data]   Package stopwords is already up-to-date!\n",
            "[nltk_data] Downloading package wordnet to /root/nltk_data...\n",
            "[nltk_data]   Package wordnet is already up-to-date!\n",
            "[nltk_data] Downloading package punkt to /root/nltk_data...\n",
            "[nltk_data]   Package punkt is already up-to-date!\n"
          ]
        },
        {
          "output_type": "execute_result",
          "data": {
            "text/plain": [
              "True"
            ]
          },
          "metadata": {},
          "execution_count": 35
        }
      ],
      "source": [
        "# Imports\n",
        "import re\n",
        "import csv\n",
        "import nltk\n",
        "import pandas as pd\n",
        "import numpy as np\n",
        "\n",
        "from nltk.corpus import stopwords\n",
        "from nltk.tokenize import word_tokenize\n",
        "from nltk.stem import WordNetLemmatizer\n",
        "\n",
        "from sklearn.metrics.pairwise import cosine_similarity\n",
        "from gensim.utils import simple_preprocess\n",
        "from gensim.models import Word2Vec\n",
        "\n",
        "# Download necessary NLTK data (only needs to be done once)\n",
        "nltk.download('stopwords')\n",
        "nltk.download('wordnet')\n",
        "nltk.download('punkt')"
      ]
    },
    {
      "cell_type": "code",
      "execution_count": 36,
      "metadata": {
        "id": "Exp8qV_6DQhx"
      },
      "outputs": [],
      "source": [
        "stop_words = set(stopwords.words('english'))\n",
        "lemmatizer = WordNetLemmatizer()\n",
        "\n",
        "def clean_text(text):\n",
        "    # Remove unwanted tokens (e.g., '<unk>' placeholders)\n",
        "    text = re.sub(r'<unk>', '', text)\n",
        "    # Remove numbers, punctuation, special characters\n",
        "    text = re.sub(r'\\d+|[^\\w\\s]', '', text)\n",
        "    # Use gensim's simple_preprocess for lowercasing and tokenizing\n",
        "    prep_words = simple_preprocess(text)\n",
        "    # Remove stopwords\n",
        "    cleaned_words = [word for word in prep_words if word not in stop_words]\n",
        "    cleaned_text = ' '.join(cleaned_words)\n",
        "    return cleaned_text\n",
        "\n",
        "def lemmatize_text(text):\n",
        "    words = text.split()\n",
        "    # Lemmatize each word\n",
        "    lemmatized_words = [lemmatizer.lemmatize(word) for word in words]\n",
        "    lemmatized_text = ' '.join(lemmatized_words)\n",
        "    return lemmatized_text"
      ]
    },
    {
      "cell_type": "code",
      "execution_count": 37,
      "metadata": {
        "id": "wnm7CtVhDSdY"
      },
      "outputs": [],
      "source": [
        "with open('./data/WikiText-103.txt', 'r') as file:\n",
        "    data = file.read()\n",
        "\n",
        "# Clean the text\n",
        "clean_data = clean_text(data)\n",
        "\n",
        "# Lemmatize the cleaned text\n",
        "lemmatized_data = lemmatize_text(clean_data)\n",
        "\n",
        "# Tokenize the lemmatized text\n",
        "tokenized_data = word_tokenize(lemmatized_data)\n",
        "\n",
        "# Create chunks of 1000 tokens\n",
        "chunk_size = 1000\n",
        "chunks = [tokenized_data[i:i+chunk_size] for i in range(0, len(tokenized_data), chunk_size)]\n",
        "\n",
        "# Join each token in the chunk together\n",
        "chunks = [' '.join(chunk) for chunk in chunks]\n",
        "\n",
        "# Tokenize the documents into words\n",
        "tokenized_chunks = [word_tokenize(chunk) for chunk in chunks]"
      ]
    },
    {
      "cell_type": "code",
      "execution_count": 38,
      "metadata": {
        "id": "J5_0Hwe9DZ5x"
      },
      "outputs": [],
      "source": [
        "# Train Word2Vec using Skip-gram (sg=1 for Skip-gram, sg=0 for CBOW)\n",
        "word2vec_model = Word2Vec(sentences=tokenized_chunks, vector_size=100, window=5, sg=1, min_count=1, workers=4)"
      ]
    },
    {
      "cell_type": "code",
      "execution_count": 39,
      "metadata": {
        "id": "VtiGLdlaDrqU"
      },
      "outputs": [],
      "source": [
        "# Read word pairs from csv\n",
        "word_pairs = []\n",
        "with open('./data/CW-1-testdata.csv', 'r') as csvfile:\n",
        "    csvreader = csv.reader(csvfile)\n",
        "    for row in csvreader:\n",
        "        word_pairs.append((row[0],row[1], row[2]))"
      ]
    },
    {
      "cell_type": "code",
      "execution_count": 40,
      "metadata": {
        "id": "LLk40517HL0Q"
      },
      "outputs": [],
      "source": [
        "# # Function to get vector for a word or phrase and handle OOV and multi-word terms\n",
        "def get_word_vector(word, model):\n",
        "    if word in model.wv:\n",
        "        return model.wv[word]\n",
        "    else:\n",
        "        word_parts = word.split()\n",
        "        known_words = [w for w in word_parts if w in model.wv]\n",
        "        if known_words:\n",
        "            # Average vectors of known words to represent the OOV word\n",
        "            return np.mean([model.wv[w] for w in known_words], axis=0)\n",
        "        else:\n",
        "            # Return vector of a similar word or root word, or the mean of the vocabulary as a fallback\n",
        "            return np.mean(model.wv.vectors, axis=0)  # Mean embedding as a fallback"
      ]
    },
    {
      "cell_type": "code",
      "execution_count": 41,
      "metadata": {
        "id": "PpTHS-JyBhQV"
      },
      "outputs": [],
      "source": [
        "# Prepare the output list for results\n",
        "results = []\n",
        "\n",
        "# Loop through each word pair and calculate cosine similarity\n",
        "for id, word1, word2 in word_pairs:\n",
        "    try:\n",
        "        # Fetch vectors for both words\n",
        "        vector1 = get_word_vector(lemmatize_text(word1), word2vec_model).reshape(1, -1)\n",
        "        vector2 = get_word_vector(lemmatize_text(word2), word2vec_model).reshape(1, -1)\n",
        "\n",
        "        # Calculate cosine similarity\n",
        "        cosine_sim = cosine_similarity(vector1, vector2)[0][0]\n",
        "\n",
        "        # Append the result for the current pair\n",
        "        results.append((id, word1, word2, cosine_sim))\n",
        "\n",
        "    except ValueError:\n",
        "        results.append((id, word1, word2, 0.0))\n",
        "\n",
        "# Write the results to a new CSV file\n",
        "with open('10868226_task2_results.csv', 'w', newline='') as csvfile:\n",
        "    csvwriter = csv.writer(csvfile)\n",
        "    # Write each result row\n",
        "    csvwriter.writerows(results)"
      ]
    },
    {
      "cell_type": "code",
      "source": [],
      "metadata": {
        "id": "xzcQX1RsgG5Q"
      },
      "execution_count": 41,
      "outputs": []
    }
  ],
  "metadata": {
    "colab": {
      "provenance": []
    },
    "kernelspec": {
      "display_name": "Python 3",
      "name": "python3"
    },
    "language_info": {
      "name": "python"
    }
  },
  "nbformat": 4,
  "nbformat_minor": 0
}